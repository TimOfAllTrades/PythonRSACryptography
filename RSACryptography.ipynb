{
  "cells": [
    {
      "cell_type": "markdown",
      "metadata": {},
      "source": [
        "# RSA Cryptography explanation\n",
        "\n",
        "RSA cryptography remains a mathematically secure method of performing asymmetric cryptography.  In this notebook, we will provide an example and explain the mathematical fundamentals of the encryption decryption process.\n",
        "\n",
        "## Background\n",
        "\n",
        "Data sent through the internet will be go through various nodes, i.e. (switches, routers and hubs) before reaching the final destination.  It must be assumed that at every node, there exists an opportunity for an eavesdropper to monitor and log all data that goes through.  Thus, data encryption is necessary to prevent the interception of sensitive data in this manner.  A sender and receiver both possess a key that will encrypt data when sent through the internet and decrypt data after it has reached its destination.  Any data intercepted in between will be meaningless to people without the encryption/decryption keys.\n",
        "\n",
        "This introduces another logistical issue.  An encryption key sent through the internet (for other users to encrypted data with) will also be intercepted by eavesdroppers thus defeating the purpose of any further encryption.  To counter this, is necessary for the encryption key to be *different* than the decryption key.  For example, Person A could broadcast an encryption key on the internet that the public can use to encrypt data to send to him.  But only Person A will have the decryption key to decrypt the encrypted data sent to him by the public.\n",
        "\n",
        "This is the basis of asymmetric cryptography.  When the Encryption and Decryption keys are different.\n"
      ]
    },
    {
      "cell_type": "markdown",
      "metadata": {},
      "source": [
        "\n",
        "## Mathematical concept\n",
        "\n",
        "RSA operates on the mathematical principle so that with 3 numbers *a*, *b*, and *c*, an encryption and decryption cycle can be completed as below:\n",
        "\n",
        "$$ plaintext^{\\small a} \\enspace mod \\enspace c = ciphertext $$\n",
        "\n",
        "<p style=\"text-align: center;\">and</p>\n",
        "\n",
        "$$ ciphertext^{\\small b} \\enspace mod \\enspace c = plaintext $$\n",
        "\n",
        "\n",
        "A very simple example can be demonstrated with *a* = 13, *b* = 37, *c* = 77, and *plaintext* = 2.\n",
        "\n",
        "Since 2 is the number we want to keep secret and encrypt, we will take *plaintext* (2) to the *a* power first and the encrypted number (ciphertext) will be the remainder when divided by *c*.\n",
        "\n",
        "$$\n",
        "2^{13} \\enspace mod \\enspace 77\n",
        "$$\n",
        "\n",
        "<p style=\"text-align: center;\">or</p>\n",
        "\n",
        "$$\n",
        "8192 \\enspace mod \\enspace 77 = 30\n",
        "$$\n",
        "\n",
        "The ciphertext is 30 since that is the remainder when 8192 is divided by 77.\n",
        "\n",
        "To revert the number 30 back to the plain text, then the we take it to the *b*th power and do a modulo division with *c*\n",
        "\n",
        "$$\n",
        "30^{37} \\enspace mod \\enspace 77\n",
        "$$\n",
        "\n",
        "<p style=\"text-align: center;\">or</p>\n",
        "\n",
        "$$\n",
        "4502839058909973630000000000000000000000000000000000000 \\enspace mod \\enspace 77 = 2\n",
        "$$\n",
        "\n",
        "from which the above equation results in 2, same as the original plaintext.\n",
        "\n",
        "Since *a* *b* and *c* are necessary to complete an encryption and decryption cycle, publicly broadcasting *a* and *c* would only provide the public the ability to encrypt data, whereas the person who secretly keeps *b* private, would only be able to decrypt data that was encrypted by a and c.\n",
        "\n",
        "The above example only demonstrates a simple case.  In practicality, *a* *b* and *c* are hundreds or even thousands of digits long.\n",
        "\n",
        "**Thus *a* and *c* are the public keys, the numbers necessary to encrypt data and *b* is the private key, the number required to decrypt data.**\n",
        "\n",
        "While the public and private keys are mathematically linked, determining b from a and c requires knowing the factors of c.  If c were a product of two very large prime numbers, then determining b would be extremely difficult as there exists no efficient way to factor a product of two large prime numbers.  A person can create its own public and private key set by generating two large prime numbers, calculating *a*,*b*,*c* from it and its safety its guaranteed so long as nobody can factor it.\n",
        "\n",
        "## Python Implementation\n",
        "\n",
        "First we will create three functions, the Modulo Exponent function, the Miller Rabin Primality test and the Euler's GCD theorem.  The Modulo Exponent function is necessary for the Miller Rabin Primality test.\n"
      ]
    },
    {
      "cell_type": "code",
      "execution_count": 13,
      "metadata": {
        "trusted": true
      },
      "outputs": [],
      "source": [
        "import random\n",
        "\n",
        "def ModuloExponent(base, exponent, modulus):\n",
        "    if modulus == 1:\n",
        "        return 0\n",
        "    result = 1\n",
        "    base = base % modulus\n",
        "    while exponent > 0:                                 \n",
        "        #Check if the right most byte is a 1.  If so the result is multiplied by the current base modulo\n",
        "        if exponent % 2 == 1:                           \n",
        "            result = (result * base) % modulus\n",
        "        #Shift bytes right\n",
        "        exponent //= 2\n",
        "        #Update the base to the next squared exponent\n",
        "        base = (base*base) % modulus\n",
        "    return result\n",
        "\n",
        "def miller_rabin(n, k):\n",
        "\n",
        "    if n == 2 or n == 3:\n",
        "        return True\n",
        "\n",
        "    if n % 2 == 0:\n",
        "        return False\n",
        "\n",
        "    r, s = 0, n - 1\n",
        "    while s % 2 == 0:\n",
        "        r += 1\n",
        "        s //= 2\n",
        "    for _ in range(k):\n",
        "        a = random.randrange(2, n - 1)\n",
        "        x = ModuloExponent(a, s, n)\n",
        "        if x == 1 or x == n - 1:\n",
        "            continue\n",
        "        for _ in range(r - 1):\n",
        "            x = pow(x, 2, n)\n",
        "            if x == n - 1:\n",
        "                break\n",
        "        else:\n",
        "            return False\n",
        "    return True\n",
        "\n",
        "def Eulers_GCD(a, b):\n",
        "    r = a % b\n",
        "    q = a//b\n",
        "    while r != 0:\n",
        "        a = b\n",
        "        b = r\n",
        "        q = a//b\n",
        "        r = a - b*q\n",
        "    return b"
      ]
    },
    {
      "cell_type": "markdown",
      "metadata": {},
      "source": [
        "The Miller Rabin primality test will return true if an input number n has an overwhelmingly high probability of being prime, while Euler's GCD will return the greatest common denominator between two input numbers or simply 1 if there are none.\n",
        "\n",
        "The next step is to find two prime numbers p and q.  In the line below, p is already set to an initial value, but you can set p to any number simply by modifying the line."
      ]
    },
    {
      "cell_type": "code",
      "execution_count": 14,
      "metadata": {
        "trusted": true
      },
      "outputs": [],
      "source": [
        "#You can modify this to whatever number you like\n",
        "p = 2344190"
      ]
    },
    {
      "cell_type": "markdown",
      "metadata": {},
      "source": [
        "In the next block of code, p will be incremented until it passes the Miller Rabin primality test."
      ]
    },
    {
      "cell_type": "code",
      "execution_count": 15,
      "metadata": {
        "trusted": true
      },
      "outputs": [],
      "source": [
        "while miller_rabin(p, 40) == False:\n",
        "    p += 1"
      ]
    },
    {
      "cell_type": "markdown",
      "metadata": {},
      "source": [
        "Another prime number q is needed.  Similar to p before, q is given an initial value, but it can be modified to any other number."
      ]
    },
    {
      "cell_type": "code",
      "execution_count": 16,
      "metadata": {
        "trusted": true
      },
      "outputs": [],
      "source": [
        "#You can modify this to whatever number you like\n",
        "q = 8099343"
      ]
    },
    {
      "cell_type": "markdown",
      "metadata": {},
      "source": [
        "Like before, q will be incremented until it passes the Miller Rabin primality test."
      ]
    },
    {
      "cell_type": "code",
      "execution_count": 17,
      "metadata": {
        "trusted": true
      },
      "outputs": [
        {
          "name": "stdout",
          "output_type": "stream",
          "text": [
            "2344193 8099347\n"
          ]
        }
      ],
      "source": [
        "while miller_rabin(q, 40) == False:\n",
        "    q += 1\n",
        "\n",
        "print(p,q)"
      ]
    },
    {
      "cell_type": "markdown",
      "metadata": {},
      "source": [
        "These are the two prime numbers we obtained.  \n",
        "\n",
        "Using p and q, we acquire two other numbers of importance, the **modulus**:"
      ]
    },
    {
      "cell_type": "code",
      "execution_count": 18,
      "metadata": {
        "trusted": true
      },
      "outputs": [],
      "source": [
        "modulus = p*q"
      ]
    },
    {
      "cell_type": "markdown",
      "metadata": {},
      "source": [
        "and the **totient**"
      ]
    },
    {
      "cell_type": "code",
      "execution_count": 19,
      "metadata": {
        "trusted": true
      },
      "outputs": [
        {
          "name": "stdout",
          "output_type": "stream",
          "text": [
            "The modulus and totient respectively: 18986432541971 18986422098432\n"
          ]
        }
      ],
      "source": [
        "totient = (p-1)*(q-1)\n",
        "\n",
        "print(\"The modulus and totient respectively:\", modulus,totient)"
      ]
    },
    {
      "cell_type": "markdown",
      "metadata": {},
      "source": [
        "Next, we need a prime number n that is coprime with the totient, i.e. the greatest common factor between them is 1.  \n",
        "\n",
        "Here we increment n until it passes the Miller Rabin test (so that it is prime) and has a value of 1 returned from the Euler's GCD function (shares no common factors with the totient).  n should also be smaller than the modulus"
      ]
    },
    {
      "cell_type": "code",
      "execution_count": 20,
      "metadata": {},
      "outputs": [
        {
          "name": "stdout",
          "output_type": "stream",
          "text": [
            "65537\n"
          ]
        }
      ],
      "source": [
        "#You can modify this number to whatever you like so long as it is < modulus\n",
        "n = 65537\n",
        "\n",
        "while miller_rabin(n, 40) == False or Eulers_GCD(totient, n) != 1:\n",
        "    n += 1 \n",
        "\n",
        "print(n)"
      ]
    },
    {
      "cell_type": "markdown",
      "metadata": {},
      "source": [
        "Now that we have our n, and totient, it is time to calculate the private key.\n",
        "The private key (pk) is such that the below equation is satisfied.\n",
        "\n",
        "n * pk mod totient = 1\n",
        "\n",
        "$$\n",
        "n \\times private \\enspace key \\enspace mod \\enspace totient = 1\n",
        "$$\n",
        "\n",
        "Simply, when n * private key is divided by the totient, the remainder must be 1.  To accomplish this, we need will increment an integer i until the below equation is satisfied\n",
        "\n",
        "$\n",
        "(i \\times totient + 1) \\enspace mod \\enspace n = 0\n",
        "$\n",
        " and the quotient will be the private key.  To accomplish this, we use the code below"
      ]
    },
    {
      "cell_type": "code",
      "execution_count": 21,
      "metadata": {
        "trusted": true
      },
      "outputs": [
        {
          "name": "stdout",
          "output_type": "stream",
          "text": [
            "The Modulus 18986432541971\n",
            "The n exponent 65537\n",
            "The private key 6313259843585\n"
          ]
        }
      ],
      "source": [
        "def Get_Private_Key(totient, n):\n",
        "    for i in range(0, n):\n",
        "        if ((i * totient)+1) % n == 0:\n",
        "            return ((i * totient)+1)//n\n",
        "        \n",
        "pkey = Get_Private_Key(totient, n)\n",
        "\n",
        "print(\"The Modulus\", modulus)\n",
        "print(\"The n exponent\", n)\n",
        "print(\"The private key\", pkey)"
      ]
    },
    {
      "cell_type": "markdown",
      "metadata": {
        "trusted": true
      },
      "source": [
        "Now we have all the numbers we need.  The modulus, and n is publicly broadcast as the public key, while the private key is kept secret.  To encrypt data, the formula is (plain text)^n mod modulus.\n",
        "\n",
        "To efficiently take the modulus of a large exponential number, we use the following properties of modulo division as demonstrated in this example:\n",
        "\n",
        "$$\n",
        "a \\enspace mod \\enspace b = c\n",
        "$$\n",
        "$$\n",
        "a^2 \\enspace mod \\enspace b = c^2 \\enspace mod \\enspace b = d\n",
        "$$\n",
        "$$\n",
        "a^4 \\enspace mod \\enspace b = d^2 \\enspace mod \\enspace b = e\n",
        "$$\n",
        "$$\n",
        "a^8 \\enspace mod \\enspace b = e^2 \\enspace mod \\enspace b = f\n",
        "$$\n",
        "\n",
        "To calculate \n",
        "$\n",
        "a^{13} \\enspace mod \\enspace b\n",
        "$\n",
        "would be equivalent to \n",
        "$\n",
        "(a^8 \\enspace mod \\enspace b \\times a^4 \\enspace mod \\enspace b \\times a \\enspace mod \\enspace b ) \\enspace mod \\enspace b\n",
        "$\n",
        "\n",
        "Which can be expressed as \n",
        "$\n",
        "(f \\times e \\times c) \\enspace mod \\enspace b\n",
        "$\n",
        "using the coefficients in the table above\n",
        "\n",
        "The trick to tackling a large exponential modulo function (even when the numbers are hundreds of digits long) is to determine all necessary squared modulo coefficients, then multiply the necessary corresponding coefficients so that the product equates to the original number, and determine its modulus.\n",
        "\n",
        "This effect is reflected in the ModuloExponent function defined earlier in the first code box.\n"
      ]
    },
    {
      "cell_type": "markdown",
      "metadata": {
        "trusted": true
      },
      "source": [
        "Now we have all the necessary fuctions and variables defined.  We will attempt to encrypt a number"
      ]
    },
    {
      "cell_type": "code",
      "execution_count": 22,
      "metadata": {},
      "outputs": [],
      "source": [
        "#Replace the plaintext variable with any number you like\n",
        "plaintext = 2"
      ]
    },
    {
      "cell_type": "markdown",
      "metadata": {},
      "source": [
        "Now to encrypt it using the modulo exponent function.  We will take the plaintext to the nth power mod Modulus"
      ]
    },
    {
      "cell_type": "code",
      "execution_count": 23,
      "metadata": {},
      "outputs": [
        {
          "name": "stdout",
          "output_type": "stream",
          "text": [
            "The plaintext number has been changed to:  11201462320055\n"
          ]
        }
      ],
      "source": [
        "ciphertext = ModuloExponent(plaintext, n, modulus)\n",
        "print(\"The plaintext number has been changed to: \",ciphertext)"
      ]
    },
    {
      "cell_type": "markdown",
      "metadata": {},
      "source": [
        "The ciphertext variable is now the encrypted plaintext number.  The cipher text can be safely sent throughout the internet and only the person with the private key can decrypt it.  To decrypt the ciphertext, we take the cipher text to the private key's power mod Modulus."
      ]
    },
    {
      "cell_type": "code",
      "execution_count": 24,
      "metadata": {},
      "outputs": [
        {
          "name": "stdout",
          "output_type": "stream",
          "text": [
            "The decrypted number is:  2\n",
            "which should match with the original plaintext 2\n"
          ]
        }
      ],
      "source": [
        "decryptedtext = ModuloExponent(ciphertext, pkey, modulus)\n",
        "print(\"The decrypted number is: \", decryptedtext)\n",
        "print(\"which should match with the original plaintext\", plaintext)"
      ]
    }
  ],
  "metadata": {
    "kernelspec": {
      "display_name": "Python 3",
      "language": "python",
      "name": "python3"
    },
    "language_info": {
      "codemirror_mode": {
        "name": "ipython",
        "version": 3
      },
      "file_extension": ".py",
      "mimetype": "text/x-python",
      "name": "python",
      "nbconvert_exporter": "python",
      "pygments_lexer": "ipython3",
      "version": "3.12.1"
    }
  },
  "nbformat": 4,
  "nbformat_minor": 4
}
