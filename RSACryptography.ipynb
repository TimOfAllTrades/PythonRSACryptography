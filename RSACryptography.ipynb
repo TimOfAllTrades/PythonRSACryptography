{
  "cells": [
    {
      "cell_type": "markdown",
      "metadata": {},
      "source": [
        "# RSA Cryptography explanation\n",
        "\n",
        "RSA cryptography remains a mathematically secure method of performing asymmetric cryptography.  In this notebook, we will provide an example and explain the mathematical fundamentals of the encryption decryption process.\n",
        "\n",
        "## Background\n",
        "\n",
        "Data sent through the internet will be go through various nodes, i.e. (switches, routers and hubs) before reaching the final destination.  It must be assumed that at every node, there exists an opportunity for an eavesdropper to monitor and log all data that goes through.  Thus, data encryption is necessary to prevent the interception of sensitive data in this manner.  A sender and receiver both possess a key that will encrypt data when sent through the internet and decrypt data after it has reached its destination.  Any data intercepted in between will be meaningless to people without the encryption/decryption keys.\n",
        "\n",
        "This introduces another logistical issue in that sending an encryption key sent through the internet (to initiate the exchange of encrypted data) will also be intercepted by eavesdroppers thus defeating the purpose of any further encryption.  To counter this, is necessary for the encryption key to be different than the decryption key.  For example, if Bob wants to initiate a secure communication channel through the internet, Bob would broadcast an encryption key that everyone can use to encrypt data to send to him, but only Bob will have the decryption key to decrypt the encrypted data sent to him.\n",
        "\n",
        "## Mathematical concept\n",
        "\n",
        "RSA operates on the mathematical principle so that with 3 numbers *a*, *b*, and *c*, an encryption and decryption cycle can be completed as below\n",
        "\n",
        "(*number*) <sup><font size='4'>*a*</font></sup> *mod* *c* = (*encrypted number*)<br>\n",
        "(*encrypted number*) <sup><font size='4'>*b*</font></sup> *mod* *c* = (*number*)\n",
        "\n",
        "where mod is the modulo function (retrieve the remainder when a number is divided by c).\n",
        "\n",
        "Since *a* *b* and *c* are necessary to complete an encryption and decryption cycle, publicly broadcasting *a* and *c* would only provide the public the ability to encrypt data, whereas the person who secretly keeps *b* private, would only be able to decrypt data that was encrypted by a and c.\n",
        "\n",
        "**In this sense, *a* and *c* are the public keys, the numbers necessary to encrypt data and *b* is the private key, the number required to decrypt data.**\n",
        "\n",
        "While the public and private keys are mathematically linked, determining b from a and c requires knowing the factors of c.  If c were a product of two very large prime numbers, then determining b would be virtually impossible as there exists no efficient way to factor a product of large prime numbers.  Thus, a person can create his own public private key set by generating two large prime numbers and its safety its guaranteed so long as nobody can factor it.\n",
        "\n",
        "## Python Implementation\n",
        "\n",
        "First we will create two functions, the Miller Rabin Primality test and the Euler's GCD theorem\n"
      ]
    },
    {
      "cell_type": "code",
      "execution_count": 1,
      "metadata": {
        "trusted": true
      },
      "outputs": [],
      "source": [
        "import random\n",
        "\n",
        "def miller_rabin(n, k):\n",
        "\n",
        "    if n == 2 or n == 3:\n",
        "        return True\n",
        "\n",
        "    if n % 2 == 0:\n",
        "        return False\n",
        "\n",
        "    r, s = 0, n - 1\n",
        "    while s % 2 == 0:\n",
        "        r += 1\n",
        "        s //= 2\n",
        "    for _ in range(k):\n",
        "        a = random.randrange(2, n - 1)\n",
        "        x = pow(a, s, n)\n",
        "        if x == 1 or x == n - 1:\n",
        "            continue\n",
        "        for _ in range(r - 1):\n",
        "            x = pow(x, 2, n)\n",
        "            if x == n - 1:\n",
        "                break\n",
        "        else:\n",
        "            return False\n",
        "    return True\n",
        "\n",
        "def Eulers_GCD(a, b):\n",
        "    r = a % b\n",
        "    q = a//b\n",
        "    while r != 0:\n",
        "        a = b\n",
        "        b = r\n",
        "        q = a//b\n",
        "        r = a - b*q\n",
        "    return b"
      ]
    },
    {
      "cell_type": "markdown",
      "metadata": {},
      "source": [
        "The Miller Rabin primality test will return true if an input number n has an overwhelmingly high probability of being prime, while Euler's GCD will return the greatest common denominator between two input numbers or simply 1 if there are none.\n",
        "\n",
        "The next step is to find two prime numbers p and q.  In the line below, p is already set to an initial value, but you can set p to any number simply by modifying the line."
      ]
    },
    {
      "cell_type": "code",
      "execution_count": 2,
      "metadata": {
        "trusted": true
      },
      "outputs": [],
      "source": [
        "p = 6774"
      ]
    },
    {
      "cell_type": "markdown",
      "metadata": {},
      "source": [
        "In the next block of code, p will be incremented until it passes the Miller Rabin primality test."
      ]
    },
    {
      "cell_type": "code",
      "execution_count": 3,
      "metadata": {
        "trusted": true
      },
      "outputs": [],
      "source": [
        "while miller_rabin(p, 40) == False:\n",
        "    p += 1"
      ]
    },
    {
      "cell_type": "markdown",
      "metadata": {},
      "source": [
        "Another prime number q is needed.  Similar to p before, q is given an initial value, but it can be modified to any other number."
      ]
    },
    {
      "cell_type": "code",
      "execution_count": 4,
      "metadata": {
        "trusted": true
      },
      "outputs": [],
      "source": [
        "q = 1445"
      ]
    },
    {
      "cell_type": "markdown",
      "metadata": {},
      "source": [
        "Like before, q will be incremented until it passes the Miller Rabin primality test."
      ]
    },
    {
      "cell_type": "code",
      "execution_count": 5,
      "metadata": {
        "trusted": true
      },
      "outputs": [
        {
          "name": "stdout",
          "output_type": "stream",
          "text": [
            "6779 1447\n"
          ]
        }
      ],
      "source": [
        "while miller_rabin(q, 40) == False:\n",
        "    q += 1\n",
        "\n",
        "print(p,q)"
      ]
    },
    {
      "cell_type": "markdown",
      "metadata": {},
      "source": [
        "These are the two prime numbers we obtained.  \n",
        "\n",
        "Using p and q, we acquire two other numbers of importance, the **modulus**:"
      ]
    },
    {
      "cell_type": "code",
      "execution_count": 6,
      "metadata": {
        "trusted": true
      },
      "outputs": [],
      "source": [
        "modulus = p*q"
      ]
    },
    {
      "cell_type": "markdown",
      "metadata": {},
      "source": [
        "and the **totient**"
      ]
    },
    {
      "cell_type": "code",
      "execution_count": 7,
      "metadata": {
        "trusted": true
      },
      "outputs": [
        {
          "name": "stdout",
          "output_type": "stream",
          "text": [
            "The modulus and totient respectively: 9809213 9800988\n"
          ]
        }
      ],
      "source": [
        "totient = (p-1)*(q-1)\n",
        "\n",
        "print(\"The modulus and totient respectively:\", modulus,totient)"
      ]
    },
    {
      "cell_type": "markdown",
      "metadata": {},
      "source": [
        "Next, we need a prime number n that is coprime with the totient, i.e. the greatest common factor between them is 1.  \n",
        "\n",
        "Here we increment n until it passes the Miller Rabin test (so that it is prime) and has a value of 1 returned from the Euler's GCD function (shares no common factors with the totient).  n should also be smaller than the modulus"
      ]
    },
    {
      "cell_type": "code",
      "execution_count": 8,
      "metadata": {},
      "outputs": [
        {
          "name": "stdout",
          "output_type": "stream",
          "text": [
            "65537\n"
          ]
        }
      ],
      "source": [
        "n = 65533\n",
        "\n",
        "while miller_rabin(n, 40) == False or Eulers_GCD(totient, n) != 1:\n",
        "    n += 1 \n",
        "\n",
        "print(n)"
      ]
    },
    {
      "cell_type": "markdown",
      "metadata": {},
      "source": [
        "Now that we have our n, and totient, it is time to calculate the private key.\n",
        "The private key (pk) is such that the below equation is satisfied.\n",
        "\n",
        "n * pk mod totient = 1\n",
        "\n",
        "where mod is the modulo function, or simply, when n * pk is divided by the totient, the remainder must be 1.  To accomplish this, we need will increment an integer i until the below equation\n",
        "\n",
        "(i * totient + 1) / n yields an integer.  To accomplish this, we use the code below"
      ]
    },
    {
      "cell_type": "code",
      "execution_count": 9,
      "metadata": {
        "trusted": true
      },
      "outputs": [
        {
          "name": "stdout",
          "output_type": "stream",
          "text": [
            "Found private key \n",
            "on iteration  30556\n"
          ]
        }
      ],
      "source": [
        "def Get_Private_Key(totient, n):\n",
        "    for i in range(0, n):\n",
        "        if ((i * totient)+1) % n == 0:\n",
        "            print(\"Found private key \")\n",
        "            print(\"on iteration \", i)\n",
        "            return ((i * totient)+1)//n\n",
        "        \n",
        "pkey = Get_Private_Key(totient, n)"
      ]
    },
    {
      "cell_type": "markdown",
      "metadata": {
        "trusted": true
      },
      "source": [
        "Now we have all the numbers we need.  The modulus, and n is publicly broadcast as the public key, while the private key is kept secret.  To encrypt data, the formula is (plain text)^n mod modulus.\n",
        "\n",
        "To efficiently take the modulus of a large exponential number, we use the following properties of modulo division as demonstrated in this example:\n",
        "\n",
        "a mod b = c<br>\n",
        "a<sup><font size='4'>2</font></sup> mod b = c<sup><font size='4'>2</font></sup> mod b = d<br>\n",
        "a<sup><font size='4'>4</font></sup> mod b = d<sup><font size='4'>2</font></sup> mod b = e<br>\n",
        "a<sup><font size='4'>8</font></sup> mod b = e<sup><font size='4'>2</font></sup> mod b = f<br>\n",
        "\n",
        "To calculate the a<sup><font size='4'>13</font></sup> mod b would be equivalent to (a<sup><font size='4'>8</font></sup> * a<sup><font size='4'>2</font></sup> * a)mod b\n",
        "\n",
        "Which can be expressed as \n",
        "(a<sup><font size='4'>8</font></sup> mod b * a<sup><font size='4'>2</font></sup> mod b * a mod b ) mod b\n",
        "\n",
        "Or from using the coefficients in the table above\n",
        "(c * d * f) mod b\n"
      ]
    },
    {
      "cell_type": "code",
      "execution_count": null,
      "metadata": {
        "trusted": true
      },
      "outputs": [],
      "source": []
    },
    {
      "cell_type": "code",
      "execution_count": null,
      "metadata": {
        "trusted": true
      },
      "outputs": [],
      "source": []
    }
  ],
  "metadata": {
    "kernelspec": {
      "display_name": "Python 3",
      "language": "python",
      "name": "python3"
    },
    "language_info": {
      "codemirror_mode": {
        "name": "ipython",
        "version": 3
      },
      "file_extension": ".py",
      "mimetype": "text/x-python",
      "name": "python",
      "nbconvert_exporter": "python",
      "pygments_lexer": "ipython3",
      "version": "3.9.2"
    }
  },
  "nbformat": 4,
  "nbformat_minor": 4
}
